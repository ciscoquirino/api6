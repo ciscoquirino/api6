{
 "cells": [
  {
   "cell_type": "markdown",
   "metadata": {},
   "source": [
    "#### Conectar Banco de Dados ####"
   ]
  },
  {
   "cell_type": "code",
   "execution_count": null,
   "metadata": {},
   "outputs": [],
   "source": [
    "import pandas as pd\n",
    "import os\n",
    "from dotenv import load_dotenv\n",
    "load_dotenv()\n",
    "\n",
    "import psycopg2\n",
    "\n",
    "conexao = psycopg2.connect(os.getenv(\"DB_URI\"))"
   ]
  },
  {
   "cell_type": "markdown",
   "metadata": {},
   "source": [
    "#### Visualizar respostas ####"
   ]
  },
  {
   "cell_type": "code",
   "execution_count": null,
   "metadata": {},
   "outputs": [],
   "source": [
    "try:\n",
    "    cursor = conexao.cursor()\n",
    "\n",
    "    cursor.execute(\"SELECT * FROM resposta\")\n",
    "\n",
    "    columns = [desc[0] for desc in cursor.description]\n",
    "\n",
    "    rows = cursor.fetchall()\n",
    "\n",
    "    df = pd.DataFrame(rows, columns=columns)\n",
    "\n",
    "    print(df)\n",
    "\n",
    "    cursor.close()\n",
    "\n",
    "except psycopg2.Error as erro:\n",
    "    print(\"Erro ao conectar ao PostgreSQL:\", erro)"
   ]
  },
  {
   "cell_type": "markdown",
   "metadata": {},
   "source": [
    "#### Visualizar perguntas ####"
   ]
  },
  {
   "cell_type": "code",
   "execution_count": null,
   "metadata": {},
   "outputs": [],
   "source": [
    "try:\n",
    "    cursor = conexao.cursor()\n",
    "\n",
    "    cursor.execute(\"SELECT * FROM pergunta\")\n",
    "\n",
    "    columns = [desc[0] for desc in cursor.description]\n",
    "\n",
    "    rows = cursor.fetchall()\n",
    "\n",
    "    df = pd.DataFrame(rows, columns=columns)\n",
    "\n",
    "    print(df)\n",
    "\n",
    "    cursor.close()\n",
    "\n",
    "except psycopg2.Error as erro:\n",
    "    print(\"Erro ao conectar ao PostgreSQL:\", erro)"
   ]
  }
 ],
 "metadata": {
  "kernelspec": {
   "display_name": "ambiapi",
   "language": "python",
   "name": "python3"
  },
  "language_info": {
   "codemirror_mode": {
    "name": "ipython",
    "version": 3
   },
   "file_extension": ".py",
   "mimetype": "text/x-python",
   "name": "python",
   "nbconvert_exporter": "python",
   "pygments_lexer": "ipython3",
   "version": "3.12.3"
  }
 },
 "nbformat": 4,
 "nbformat_minor": 2
}
